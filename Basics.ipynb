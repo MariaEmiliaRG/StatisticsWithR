{
  "nbformat": 4,
  "nbformat_minor": 0,
  "metadata": {
    "colab": {
      "name": "Untitled0.ipynb",
      "provenance": [],
      "collapsed_sections": [],
      "authorship_tag": "ABX9TyM2DpiwOJP7ZIz/zpefyS+b",
      "include_colab_link": true
    },
    "kernelspec": {
      "name": "python3",
      "display_name": "Python 3"
    },
    "language_info": {
      "name": "python"
    }
  },
  "cells": [
    {
      "cell_type": "markdown",
      "metadata": {
        "id": "view-in-github",
        "colab_type": "text"
      },
      "source": [
        "<a href=\"https://colab.research.google.com/github/MariaEmiliaRG/StatisticsWithR/blob/week1/Basics.ipynb\" target=\"_parent\"><img src=\"https://colab.research.google.com/assets/colab-badge.svg\" alt=\"Open In Colab\"/></a>"
      ]
    },
    {
      "cell_type": "markdown",
      "metadata": {
        "id": "-Kim6fdjYuNT"
      },
      "source": [
        "<h1> Data basics </h1>"
      ]
    },
    {
      "cell_type": "markdown",
      "metadata": {
        "id": "piaR2xZTXfaX"
      },
      "source": [
        "## Types of variables\n",
        "\n",
        "The first step is identify the type of your variable.\n",
        "\n",
        "### Numerical ###\n",
        "\n",
        "**Quantitative**\n",
        "\n",
        "Take on numerical values sensible to add, subtract, take avarage, etc. with these values.\n",
        "\n",
        "- Continous\n",
        "Take on any of an infinitive number of values within a given range.\n",
        "\n",
        "*(-10,10)*\n",
        "\n",
        "- Discrate\n",
        "Take on one of specific set of numeric values.\n",
        "\n",
        "*{0,1,2,3,4,5}*\n",
        "\n",
        "### Categorical\n",
        "\n",
        "**Qualitative**\n",
        "\n",
        "Take on a limited number of distinct categories. Categories can be identified with numbers, but not sensible to do arithmetic operations.\n",
        "\n",
        "* Ordinal\n",
        "\n",
        "Levels have an inherent ordering.\n",
        "\n",
        "*{unsatisfied, neutral, satisfied}*\n",
        "\n",
        "* Regular categorical\n",
        "\n",
        "Doesn't have an inherent ordering.\n",
        "\n",
        "\n",
        "\n",
        "\n"
      ]
    },
    {
      "cell_type": "markdown",
      "metadata": {
        "id": "KMicnsxYZnUM"
      },
      "source": [
        "## Relationships between variables\n",
        "\n",
        "The variables are **Associated (dependent)** if them show some connection. The association can be described as *positive* or *negative*. Otherwise, they are **Independent**.\n",
        "\n"
      ]
    },
    {
      "cell_type": "markdown",
      "metadata": {
        "id": "vYYy0aTEZpNL"
      },
      "source": [
        "\n",
        "## Observational Studies and Experiments\n",
        "\n",
        "**Observation**\n",
        "Collec data in a way that does not directly interfere with how the data arise (*observe*).\n",
        "Only establish an association. \n",
        "* Retrospective: use past data \n",
        "* prospective: data are collected throughout the study. \n",
        "\n",
        "**Experiment**\n",
        "Randomly assign subjects to treatments. \n",
        "Establish casual connections. \n"
      ]
    }
  ]
}